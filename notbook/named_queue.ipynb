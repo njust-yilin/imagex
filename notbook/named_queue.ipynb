{
 "cells": [
  {
   "cell_type": "code",
   "execution_count": null,
   "metadata": {},
   "outputs": [],
   "source": [
    "from loguru import logger\n",
    "\n",
    "logger.info('info')\n",
    "logger.warning('warning')\n",
    "logger.error('error')"
   ]
  },
  {
   "cell_type": "code",
   "execution_count": 5,
   "metadata": {},
   "outputs": [
    {
     "name": "stdout",
     "output_type": "stream",
     "text": [
      "Test\n",
      "{'test': 1, 'name': 'test'}\n",
      "test\n",
      "<__main__.Test object at 0x7fd73af11a90>\n",
      "Test\n",
      "True\n",
      "{\"test\": 1, \"name\": \"test\"}\n"
     ]
    }
   ],
   "source": [
    "import numpy as np\n",
    "import json\n",
    "\n",
    "class Test:\n",
    "    def __init__(self, test, name):\n",
    "        self.test = test\n",
    "        self.name = name\n",
    "    # image = np.zeros((100, 100, 3))\n",
    "\n",
    "print(Test.__name__)\n",
    "test = Test(1, 'test')\n",
    "print(test.__dict__)\n",
    "a = Test(**test.__dict__)\n",
    "print(getattr(a, 'name'))\n",
    "print(a)\n",
    "print(Test.__name__)\n",
    "print(isinstance(a, Test))\n",
    "\n",
    "json_str = json.dumps(test.__dict__)\n",
    "print(json_str)"
   ]
  },
  {
   "cell_type": "code",
   "execution_count": 56,
   "metadata": {},
   "outputs": [
    {
     "name": "stdout",
     "output_type": "stream",
     "text": [
      "[10, 3, 3, 3]\n",
      "SharedMemory('test_shared_memory', size=270)\n",
      "SharedMemory('test_shared_memory', size=270)\n",
      "[[[112  39  56]\n",
      "  [  8  40  79]\n",
      "  [ 46  39  21]]\n",
      "\n",
      " [[  9  23   5]\n",
      "  [ 53  95  27]\n",
      "  [121  72  61]]\n",
      "\n",
      " [[ 86  40 127]\n",
      "  [ 57   5 110]\n",
      "  [ 68 110  54]]]\n",
      "==================\n",
      "[[[112  39  56]\n",
      "  [  8  40  79]\n",
      "  [ 46  39  21]]\n",
      "\n",
      " [[  9  23   5]\n",
      "  [ 53  95  27]\n",
      "  [121  72  61]]\n",
      "\n",
      " [[ 86  40 127]\n",
      "  [ 57   5 110]\n",
      "  [ 68 110  54]]]\n"
     ]
    }
   ],
   "source": [
    "import numpy as np\n",
    "from multiprocessing import shared_memory\n",
    "\n",
    "hwc = (3, 3, 3)\n",
    "qsize = 10\n",
    "shape = [qsize] + list(hwc)\n",
    "print(shape)\n",
    "\n",
    "size = np.prod(hwc) * qsize\n",
    "# initialize shared memory\n",
    "name = 'test_shared_memory'\n",
    "sm_w = shared_memory.SharedMemory(name = name, size = size, create=False)\n",
    "# sm_w.close()\n",
    "# sm_w.unlink()\n",
    "image_w = np.ndarray(shape, dtype=np.uint8, buffer=sm_w.buf)\n",
    "print(sm_w)\n",
    "\n",
    "sm_r = shared_memory.SharedMemory(name = name, size = size, create=False)\n",
    "image_r = np.ndarray(shape, dtype=np.uint8, buffer=sm_r.buf)\n",
    "print(sm_r)\n",
    "\n",
    "img = np.random.randint(128, size=hwc, dtype=np.uint8)\n",
    "print(img)\n",
    "image_w[9] = img.data\n",
    "\n",
    "print('==================')\n",
    "print(image_r[9])\n",
    "\n",
    "# sm_r.close()\n",
    "# sm_r.unlink()"
   ]
  },
  {
   "cell_type": "code",
   "execution_count": 5,
   "metadata": {},
   "outputs": [
    {
     "data": {
      "text/plain": [
       "13"
      ]
     },
     "execution_count": 5,
     "metadata": {},
     "output_type": "execute_result"
    }
   ],
   "source": [
    "(12+1) % 20"
   ]
  }
 ],
 "metadata": {
  "kernelspec": {
   "display_name": "imagex",
   "language": "python",
   "name": "python3"
  },
  "language_info": {
   "codemirror_mode": {
    "name": "ipython",
    "version": 3
   },
   "file_extension": ".py",
   "mimetype": "text/x-python",
   "name": "python",
   "nbconvert_exporter": "python",
   "pygments_lexer": "ipython3",
   "version": "3.8.15"
  },
  "orig_nbformat": 4,
  "vscode": {
   "interpreter": {
    "hash": "8c43c79cd0e04a8b6fb044784ad611cf318902228ead573fd4b9544cd45275b0"
   }
  }
 },
 "nbformat": 4,
 "nbformat_minor": 2
}
