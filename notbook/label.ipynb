{
 "cells": [
  {
   "cell_type": "code",
   "execution_count": 54,
   "metadata": {},
   "outputs": [
    {
     "name": "stdout",
     "output_type": "stream",
     "text": [
      "[128, 0, 0, 0, 128, 0]\n",
      "2\n"
     ]
    },
    {
     "data": {
      "image/png": "[encoded data removed]",
      "text/plain": [
       "<Figure size 640x480 with 1 Axes>"
      ]
     },
     "metadata": {},
     "output_type": "display_data"
    }
   ],
   "source": [
    "from PIL import Image, ImageDraw\n",
    "from matplotlib import pyplot as plt\n",
    "import cv2\n",
    "import numpy as np\n",
    "\n",
    "\n",
    "def get_color_map_list(num_classes):\n",
    "    num_classes += 1\n",
    "    color_map = num_classes * [0, 0, 0]\n",
    "    for i in range(0, num_classes):\n",
    "        j = 0\n",
    "        lab = i\n",
    "        while lab:\n",
    "            color_map[i * 3] |= (((lab >> 0) & 1) << (7 - j))\n",
    "            color_map[i * 3 + 1] |= (((lab >> 1) & 1) << (7 - j))\n",
    "            color_map[i * 3 + 2] |= (((lab >> 2) & 1) << (7 - j))\n",
    "            j += 1\n",
    "            lab >>= 3\n",
    "    color_map = color_map[3:]\n",
    "    return color_map\n",
    "\n",
    "def gray2pseudo_color(img_pil:Image):\n",
    "    color_map = get_color_map_list(256)\n",
    "    color_map[:3] = [1, 0, 0]\n",
    "    img_pil.putpalette(color_map)\n",
    "\n",
    "print(get_color_map_list(2))\n",
    "\n",
    "img = Image.new(\"P\", (500, 500))\n",
    "draw = ImageDraw.Draw(img)\n",
    "draw.rectangle((50, 50, 100, 100), outline=1, fill=0, width=2)\n",
    "draw.rectangle((200, 200, 300, 300), outline=2, fill=2)\n",
    "\n",
    "img_np = np.asarray(img)\n",
    "print(img_np.max())\n",
    "\n",
    "img = Image.fromarray(img_np.astype(np.uint8), mode='P')\n",
    "gray2pseudo_color(img)\n",
    "\n",
    "\n",
    "plt.imshow(img)\n",
    "img.save('test.png')"
   ]
  },
  {
   "cell_type": "code",
   "execution_count": 52,
   "metadata": {},
   "outputs": [
    {
     "name": "stdout",
     "output_type": "stream",
     "text": [
      "(500, 500)\n",
      "2\n"
     ]
    },
    {
     "data": {
      "image/png": "[encoded data removed]",
      "text/plain": [
       "<Figure size 640x480 with 1 Axes>"
      ]
     },
     "metadata": {},
     "output_type": "display_data"
    }
   ],
   "source": [
    "import cv2\n",
    "from PIL import Image\n",
    "from matplotlib import pyplot as plt\n",
    "\n",
    "img =Image.open('test.png')\n",
    "plt.imshow(img)\n",
    "\n",
    "img_np = np.asarray(img)\n",
    "print(img_np.shape)\n",
    "print(img_np.max())"
   ]
  },
  {
   "cell_type": "code",
   "execution_count": 38,
   "metadata": {},
   "outputs": [
    {
     "name": "stdout",
     "output_type": "stream",
     "text": [
      "1\n",
      "2\n",
      "3\n",
      "4\n",
      "5\n",
      "6\n",
      "3\n"
     ]
    }
   ],
   "source": [
    "def long_str(s):\n",
    "    m = [0] * 128 # ASCII码范围：0-127\n",
    "    max_len = 0\n",
    "    i = 0\n",
    "    for j in range(len(s)):\n",
    "        j_ascii = ord(s[j])\n",
    "        i = max(i, m[j_ascii])\n",
    "        m[j_ascii] = j + 1\n",
    "        max_len = max(max_len, j - i + 1)\n",
    "        print(m[j_ascii])\n",
    "    return max_len\n",
    "\n",
    "max_len = long_str('abcabc')\n",
    "print(max_len)"
   ]
  },
  {
   "cell_type": "code",
   "execution_count": 35,
   "metadata": {},
   "outputs": [
    {
     "name": "stdout",
     "output_type": "stream",
     "text": [
      "97\n"
     ]
    }
   ],
   "source": [
    "a = '12'\n",
    "print(ord('a'))"
   ]
  }
 ],
 "metadata": {
  "kernelspec": {
   "display_name": "Python 3.8.13 ('imagex')",
   "language": "python",
   "name": "python3"
  },
  "language_info": {
   "codemirror_mode": {
    "name": "ipython",
    "version": 3
   },
   "file_extension": ".py",
   "mimetype": "text/x-python",
   "name": "python",
   "nbconvert_exporter": "python",
   "pygments_lexer": "ipython3",
   "version": "3.8.13"
  },
  "orig_nbformat": 4,
  "vscode": {
   "interpreter": {
    "hash": "38debc9b2a573ab4134eceaecfdf0dc0c3ace6e76011fa9337961cc8b5eab097"
   }
  }
 },
 "nbformat": 4,
 "nbformat_minor": 2
}
