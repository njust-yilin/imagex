{
 "cells": [
  {
   "cell_type": "code",
   "execution_count": 8,
   "metadata": {},
   "outputs": [
    {
     "data": {
      "image/png": "[encoded data removed]",
      "text/plain": [
       "<Figure size 640x480 with 1 Axes>"
      ]
     },
     "metadata": {},
     "output_type": "display_data"
    }
   ],
   "source": [
    "from PIL import Image, ImageDraw\n",
    "import numpy as np\n",
    "from matplotlib import pyplot as plt\n",
    "\n",
    "def get_color_map_list(num_classes):\n",
    "    num_classes += 1\n",
    "    color_map = num_classes * [0, 0, 0]\n",
    "    for i in range(0, num_classes):\n",
    "        j = 0\n",
    "        lab = i\n",
    "        while lab:\n",
    "            color_map[i * 3] |= (((lab >> 0) & 1) << (7 - j))\n",
    "            color_map[i * 3 + 1] |= (((lab >> 1) & 1) << (7 - j))\n",
    "            color_map[i * 3 + 2] |= (((lab >> 2) & 1) << (7 - j))\n",
    "            j += 1\n",
    "            lab >>= 3\n",
    "    color_map = color_map[3:]\n",
    "    color_map[:3] = [0, 0, 0]\n",
    "    return color_map\n",
    "\n",
    "mask = np.zeros((512, 512), dtype=np.uint8)\n",
    "mask = Image.fromarray(mask)\n",
    "draw = ImageDraw.Draw(mask)\n",
    "draw.rectangle(((10, 10), (50, 50)), fill=1, outline=1, width=1)\n",
    "color_map = get_color_map_list(256)\n",
    "mask.putpalette(color_map)\n",
    "plt.imshow(mask)\n",
    "mask.save('mask.png')"
   ]
  },
  {
   "cell_type": "code",
   "execution_count": 6,
   "metadata": {},
   "outputs": [],
   "source": []
  }
 ],
 "metadata": {
  "kernelspec": {
   "display_name": "imagex",
   "language": "python",
   "name": "python3"
  },
  "language_info": {
   "codemirror_mode": {
    "name": "ipython",
    "version": 3
   },
   "file_extension": ".py",
   "mimetype": "text/x-python",
   "name": "python",
   "nbconvert_exporter": "python",
   "pygments_lexer": "ipython3",
   "version": "3.8.15 (default, Nov 24 2022, 15:19:38) \n[GCC 11.2.0]"
  },
  "orig_nbformat": 4,
  "vscode": {
   "interpreter": {
    "hash": "8c43c79cd0e04a8b6fb044784ad611cf318902228ead573fd4b9544cd45275b0"
   }
  }
 },
 "nbformat": 4,
 "nbformat_minor": 2
}
