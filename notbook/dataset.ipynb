{
 "cells": [
  {
   "cell_type": "code",
   "execution_count": 13,
   "metadata": {},
   "outputs": [
    {
     "data": {
      "text/plain": [
       "0"
      ]
     },
     "execution_count": 13,
     "metadata": {},
     "output_type": "execute_result"
    }
   ],
   "source": [
    "from pathlib import Path\n",
    "import os\n",
    "root = Path('/home/imagex/Desktop/PaddleSeg/data/optic_disc_seg')\n",
    "target = Path('/home/imagex/imagex_data/networks/optic_disc_seg')\n",
    "\n",
    "def mv_paths(list_path, mode='train'):\n",
    "    with open(root / list_path) as f:\n",
    "        images_path = target.joinpath(mode, 'images')\n",
    "        masks_path = target.joinpath(mode, 'masks')\n",
    "        images_path.mkdir(parents=True, exist_ok=True)\n",
    "        masks_path.mkdir(parents=True, exist_ok=True)\n",
    "        for line in f.readlines():\n",
    "            image, mask = line.strip().split(' ')\n",
    "            image_filename = image.split('/')[1]\n",
    "            mask_filename = image.split('/')[1]\n",
    "            os.system(f'cp {root}/{image} {images_path}/{image_filename}')\n",
    "            os.system(f'cp {root}/{mask} {masks_path}/{mask_filename}')\n",
    "\n",
    "mv_paths('train_list.txt', 'train')\n",
    "mv_paths('val_list.txt', 'valid')\n",
    "os.system(f'cp {root}/labels.txt {target}/labels.txt')"
   ]
  },
  {
   "cell_type": "code",
   "execution_count": 1,
   "metadata": {},
   "outputs": [
    {
     "name": "stdout",
     "output_type": "stream",
     "text": [
      "(300, 300)\n",
      "2\n",
      "(1, 300, 300)\n",
      "3\n"
     ]
    }
   ],
   "source": [
    "import numpy as np\n",
    "\n",
    "img = np.zeros((300, 300))\n",
    "print(img.shape)\n",
    "print(img.ndim)\n",
    "if img.ndim == 2:\n",
    "    img = img[None]\n",
    "print(img.shape)\n",
    "print(img.ndim)"
   ]
  },
  {
   "cell_type": "code",
   "execution_count": 2,
   "metadata": {},
   "outputs": [
    {
     "name": "stdout",
     "output_type": "stream",
     "text": [
      "[224, 224]\n"
     ]
    }
   ],
   "source": [
    "import math\n",
    "target_size = (200, 200)\n",
    "size_divisor = 32\n",
    "target_size = [\n",
    "                math.ceil(i / size_divisor) * size_divisor\n",
    "                for i in target_size\n",
    "            ]\n",
    "print(target_size)"
   ]
  }
 ],
 "metadata": {
  "kernelspec": {
   "display_name": "unified_production",
   "language": "python",
   "name": "python3"
  },
  "language_info": {
   "codemirror_mode": {
    "name": "ipython",
    "version": 3
   },
   "file_extension": ".py",
   "mimetype": "text/x-python",
   "name": "python",
   "nbconvert_exporter": "python",
   "pygments_lexer": "ipython3",
   "version": "3.8.10"
  },
  "orig_nbformat": 4,
  "vscode": {
   "interpreter": {
    "hash": "313aa446a048223861a8107c445e379fca90c0e260ccc8fd63994f64d82c889b"
   }
  }
 },
 "nbformat": 4,
 "nbformat_minor": 2
}
