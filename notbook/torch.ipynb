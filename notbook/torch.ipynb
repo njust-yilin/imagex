{
 "cells": [
  {
   "cell_type": "code",
   "execution_count": 1,
   "metadata": {},
   "outputs": [],
   "source": [
    "import torch\n",
    "import torchvision\n",
    "import torch.nn as nn\n",
    "import torchvision.transforms as transforms\n",
    "import numpy as np"
   ]
  },
  {
   "cell_type": "code",
   "execution_count": 5,
   "metadata": {},
   "outputs": [
    {
     "name": "stdout",
     "output_type": "stream",
     "text": [
      "tensor(2.)\n",
      "tensor(1.)\n",
      "tensor(1.)\n"
     ]
    }
   ],
   "source": [
    "x = torch.tensor(1., requires_grad=True)\n",
    "w = torch.tensor(2., requires_grad=True)\n",
    "b = torch.tensor(3., requires_grad=True)\n",
    "\n",
    "y = w * x + b # y = 2x + 3\n",
    "\n",
    "# compute gradients\n",
    "y.backward()\n",
    "print(x.grad) # dy/dx = w = 2\n",
    "print(w.grad) # dy/dw = x = 1\n",
    "print(b.grad) # dy/db = 1"
   ]
  },
  {
   "cell_type": "code",
   "execution_count": 38,
   "metadata": {},
   "outputs": [
    {
     "name": "stdout",
     "output_type": "stream",
     "text": [
      "torch.Size([1000, 1]) torch.Size([1000, 1])\n",
      "w Parameter containing:\n",
      "tensor([[-0.5448]], requires_grad=True)\n",
      "b Parameter containing:\n",
      "tensor([-0.8652], requires_grad=True)\n",
      "dL/dw tensor([[-0.0001]])\n",
      "dL/db tensor([-2.2173e-06])\n",
      "weight Parameter containing:\n",
      "tensor([[1.9999]], requires_grad=True)\n",
      "bias Parameter containing:\n",
      "tensor([1.0000], requires_grad=True)\n",
      "loss after 1 step optimization:  2.808755228400628e-09\n",
      "tensor([1.])\n"
     ]
    },
    {
     "data": {
      "text/plain": [
       "tensor([2.9999], grad_fn=<AddBackward0>)"
      ]
     },
     "execution_count": 38,
     "metadata": {},
     "output_type": "execute_result"
    }
   ],
   "source": [
    "x = torch.randn(1000, 1)\n",
    "y = 2 * x + 1\n",
    "print(x.shape, y.shape)\n",
    "\n",
    "# build a fully connected layer\n",
    "linear = nn.Linear(1, 1)\n",
    "print('w', linear.weight)\n",
    "print('b', linear.bias)\n",
    "\n",
    "# build loss function and optimizer\n",
    "criterion = nn.MSELoss()\n",
    "optimizer = torch.optim.Adam(linear.parameters(), lr=0.01)\n",
    "\n",
    "for i in range(1000):\n",
    "    optimizer.zero_grad()\n",
    "    # forward pass\n",
    "    pred = linear(x)\n",
    "    # compute loss\n",
    "    loss = criterion(pred, y)\n",
    "    # print('loss', loss.item())\n",
    "\n",
    "    # backward pass\n",
    "    loss.backward()\n",
    "    # print('dL/dw', linear.weight.grad)\n",
    "    # print('dL/db', linear.bias.grad)\n",
    "\n",
    "    # 1-step gradient descent\n",
    "    optimizer.step()\n",
    "\n",
    "pred = linear(x)\n",
    "loss = criterion(pred, y)\n",
    "print('dL/dw', linear.weight.grad)\n",
    "print('dL/db', linear.bias.grad)\n",
    "print('weight', linear.weight)\n",
    "print('bias', linear.bias)\n",
    "print('loss after 1 step optimization: ', loss.item())\n",
    "\n",
    "import numpy as np\n",
    "test = np.array([1.], dtype=np.float32)\n",
    "test = torch.from_numpy(test)\n",
    "print(test)\n",
    "linear.eval()\n",
    "linear(test)"
   ]
  },
  {
   "cell_type": "code",
   "execution_count": 2,
   "metadata": {},
   "outputs": [
    {
     "name": "stdout",
     "output_type": "stream",
     "text": [
      "[[1 2]\n",
      " [3 4]]\n",
      "tensor([[1, 2],\n",
      "        [3, 4]])\n",
      "[[1 2]\n",
      " [3 4]]\n"
     ]
    }
   ],
   "source": [
    "x = np.array([[1, 2], [3, 4]])\n",
    "y = torch.from_numpy(x)\n",
    "z = y.numpy()\n",
    "print(x)\n",
    "print(y)\n",
    "print(z)"
   ]
  },
  {
   "cell_type": "code",
   "execution_count": null,
   "metadata": {},
   "outputs": [],
   "source": [
    "# Download and construct CIFAR-10 dataset\n",
    "train_dataset = torchvision.datasets.CIFAR10(\n",
    "    root='data', train=True, transform=transforms.ToTensor(),\n",
    "    download=True)"
   ]
  }
 ],
 "metadata": {
  "kernelspec": {
   "display_name": "unified_production",
   "language": "python",
   "name": "python3"
  },
  "language_info": {
   "codemirror_mode": {
    "name": "ipython",
    "version": 3
   },
   "file_extension": ".py",
   "mimetype": "text/x-python",
   "name": "python",
   "nbconvert_exporter": "python",
   "pygments_lexer": "ipython3",
   "version": "3.8.13"
  },
  "orig_nbformat": 4,
  "vscode": {
   "interpreter": {
    "hash": "3859d7b46d3fca47666d3dafaba99f0f3568a25364f0556feb8badd5fe65045b"
   }
  }
 },
 "nbformat": 4,
 "nbformat_minor": 2
}
